{
 "cells": [
  {
   "cell_type": "code",
   "execution_count": 1,
   "id": "fad054f0-d118-4bc6-a475-e9259cd69a88",
   "metadata": {},
   "outputs": [
    {
     "name": "stdout",
     "output_type": "stream",
     "text": [
      "I am TeraFac ... \n"
     ]
    }
   ],
   "source": [
    "print(\"I am TeraFac ... \") "
   ]
  },
  {
   "cell_type": "code",
   "execution_count": null,
   "id": "b669ad1e-a089-48c0-b0f8-afa42a3f46e0",
   "metadata": {},
   "outputs": [],
   "source": []
  }
 ],
 "metadata": {
  "kernelspec": {
   "display_name": "Python 3 (ipykernel)",
   "language": "python",
   "name": "python3"
  },
  "language_info": {
   "codemirror_mode": {
    "name": "ipython",
    "version": 3
   },
   "file_extension": ".py",
   "mimetype": "text/x-python",
   "name": "python",
   "nbconvert_exporter": "python",
   "pygments_lexer": "ipython3",
   "version": "3.11.7"
  }
 },
 "nbformat": 4,
 "nbformat_minor": 5
}
